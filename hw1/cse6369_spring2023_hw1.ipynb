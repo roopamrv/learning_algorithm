{
  "cells": [
    {
      "attachments": {},
      "cell_type": "markdown",
      "metadata": {
        "id": "BSjb-zwKzJSW"
      },
      "source": [
        "# CSE 6369 - Spring 2023 - Homework 1\n",
        "\n",
        "\n",
        "## Student Name: Roopam Verma\n",
        "\n",
        "\n",
        "## Student ID: 1001957590"
      ]
    },
    {
      "cell_type": "markdown",
      "metadata": {
        "id": "qg05ESogmSng"
      },
      "source": [
        "# Install packages"
      ]
    },
    {
      "cell_type": "code",
      "execution_count": 1,
      "metadata": {
        "id": "ZU6o_mdnmMAR"
      },
      "outputs": [
        {
          "name": "stdout",
          "output_type": "stream",
          "text": [
            "zsh:1: no matches found: gymnasium[box2d]\n"
          ]
        }
      ],
      "source": [
        "!pip install gymnasium==0.27.1 -q\n",
        "!pip install gymnasium[box2d] -q\n",
        "!pip install moviepy -q\n",
        "!pip install -U kora -q"
      ]
    },
    {
      "cell_type": "markdown",
      "metadata": {
        "id": "lLDP4n6cmEuZ"
      },
      "source": [
        "# Import libraries"
      ]
    },
    {
      "cell_type": "code",
      "execution_count": 2,
      "metadata": {
        "id": "-e69d4FGlaGd"
      },
      "outputs": [
        {
          "ename": "ModuleNotFoundError",
          "evalue": "No module named 'moviepy'",
          "output_type": "error",
          "traceback": [
            "\u001b[0;31m---------------------------------------------------------------------------\u001b[0m",
            "\u001b[0;31mModuleNotFoundError\u001b[0m                       Traceback (most recent call last)",
            "Cell \u001b[0;32mIn[2], line 4\u001b[0m\n\u001b[1;32m      2\u001b[0m \u001b[39mimport\u001b[39;00m \u001b[39mrandom\u001b[39;00m\n\u001b[1;32m      3\u001b[0m \u001b[39mimport\u001b[39;00m \u001b[39margparse\u001b[39;00m\n\u001b[0;32m----> 4\u001b[0m \u001b[39mimport\u001b[39;00m \u001b[39mmoviepy\u001b[39;00m\n\u001b[1;32m      5\u001b[0m \u001b[39mimport\u001b[39;00m \u001b[39mmatplotlib\u001b[39;00m\u001b[39m.\u001b[39;00m\u001b[39mpyplot\u001b[39;00m \u001b[39mas\u001b[39;00m \u001b[39mplt\u001b[39;00m\n\u001b[1;32m      6\u001b[0m \u001b[39mimport\u001b[39;00m \u001b[39mseaborn\u001b[39;00m \u001b[39mas\u001b[39;00m \u001b[39msns\u001b[39;00m\n",
            "\u001b[0;31mModuleNotFoundError\u001b[0m: No module named 'moviepy'"
          ]
        }
      ],
      "source": [
        "import pickle\n",
        "import random\n",
        "import argparse\n",
        "import moviepy\n",
        "import matplotlib.pyplot as plt\n",
        "import seaborn as sns\n",
        "from kora.drive import upload_public\n",
        "from google.colab import drive\n",
        "\n",
        "drive.mount('/content/gdrive')\n",
        "%cd gdrive/MyDrive/assign_01/\n",
        "\n",
        "from learning_algorithms import PGTrainer\n",
        "from utils import seed_everything"
      ]
    },
    {
      "cell_type": "markdown",
      "metadata": {
        "id": "A9-qFcWVpzGc"
      },
      "source": [
        "# Train an agent"
      ]
    },
    {
      "cell_type": "code",
      "execution_count": null,
      "metadata": {
        "id": "n0hSISzelkYw"
      },
      "outputs": [],
      "source": [
        "# set simulation parameters\n",
        "params = {\n",
        "    'env_name': 'CartPole-v1',\n",
        "    'rng_seed': 6769,\n",
        "    'reward_to_go': True,\n",
        "    'reward_discount': False,\n",
        "    'n_rollout': 10,\n",
        "    'n_trajectory_per_rollout': 2,\n",
        "    'hidden_dim': 32,\n",
        "    'lr': 3e-3,\n",
        "    'exp_name': 'CartPole_v1_t0'\n",
        "}\n",
        "\n",
        "# Seed RNGs\n",
        "seed_everything(params['rng_seed'])\n",
        "\n",
        "# Train agent\n",
        "trainer = PGTrainer(params)\n",
        "trainer.run_training_loop()"
      ]
    },
    {
      "cell_type": "markdown",
      "metadata": {
        "id": "MFBDYmdAwWUg"
      },
      "source": [
        "# Display Video"
      ]
    },
    {
      "cell_type": "code",
      "execution_count": null,
      "metadata": {
        "id": "FZn9tuKXwVgZ"
      },
      "outputs": [],
      "source": [
        "# (ref: https://stackoverflow.com/questions/48376580/google-colab-how-to-read-data-from-my-google-drive)\n",
        "# Upload video\n",
        "url = upload_public('CartPole/rl-video-episode-0.mp4')\n",
        "# Then display it\n",
        "from IPython.display import HTML\n",
        "HTML(f\"\"\"<video src={url} width=500 controls/>\"\"\")"
      ]
    },
    {
      "cell_type": "markdown",
      "metadata": {
        "id": "2hE4ZI8ZocXH"
      },
      "source": [
        "# Visualize learning curve"
      ]
    },
    {
      "cell_type": "code",
      "execution_count": null,
      "metadata": {
        "id": "rSM3mWLnmsYY"
      },
      "outputs": [],
      "source": [
        "# (ref: http://rail.eecs.berkeley.edu/deeprlcourse/static/misc/viz.pdf)\n",
        "file_name = params['exp_name'] + '.pkl'\n",
        "with open(file_name, 'rb') as f:\n",
        "    ro_reward = pickle.load(f)\n",
        "\n",
        "# Plot the data\n",
        "sns.lineplot(data=ro_reward, linestyle='--', label='tr1')\n",
        "plt.xlabel('rollout', fontsize=25, labelpad=-2)\n",
        "plt.ylabel('reward', fontsize=25)\n",
        "plt.title('Learning curve for CartPole', fontsize=30)\n",
        "plt.legend()\n",
        "plt.grid()\n",
        "plt.show()"
      ]
    }
  ],
  "metadata": {
    "colab": {
      "provenance": []
    },
    "gpuClass": "standard",
    "kernelspec": {
      "display_name": "Python 3",
      "name": "python3"
    },
    "language_info": {
      "codemirror_mode": {
        "name": "ipython",
        "version": 3
      },
      "file_extension": ".py",
      "mimetype": "text/x-python",
      "name": "python",
      "nbconvert_exporter": "python",
      "pygments_lexer": "ipython3",
      "version": "3.11.0"
    }
  },
  "nbformat": 4,
  "nbformat_minor": 0
}
